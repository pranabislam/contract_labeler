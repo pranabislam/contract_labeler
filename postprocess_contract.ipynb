{
 "cells": [
  {
   "cell_type": "code",
   "execution_count": 226,
   "id": "6e0efe51-7b73-450e-8484-ccc7490e8b1a",
   "metadata": {},
   "outputs": [],
   "source": [
    "import json\n",
    "import pandas as pd\n",
    "import ast\n",
    "\n"
   ]
  },
  {
   "cell_type": "code",
   "execution_count": 227,
   "id": "0f318a6d-f03e-43c9-8c21-8e63741cd738",
   "metadata": {},
   "outputs": [],
   "source": [
    "# ALL TEXT IN CONTRACT\n",
    "path = \"/Users/rohith/Downloads/all_contract_text.json\"\n",
    "with open(path) as f:\n",
    "    data = json.load(f)\n"
   ]
  },
  {
   "cell_type": "code",
   "execution_count": 228,
   "id": "c9051092-9f8f-4d5a-87e4-e3be227f1034",
   "metadata": {},
   "outputs": [],
   "source": [
    "ac_labels = ast.literal_eval(data['labels'])\n",
    "ac_xpaths = ast.literal_eval(data['xpaths'])\n",
    "ac_segmented_text = ast.literal_eval(data['segmentedTexts'])\n",
    "ac_text = ast.literal_eval(data['texts'])\n"
   ]
  },
  {
   "cell_type": "code",
   "execution_count": null,
   "id": "fc6fb876-afb9-4290-aa0f-4f0a0dd861b5",
   "metadata": {},
   "outputs": [],
   "source": []
  },
  {
   "cell_type": "code",
   "execution_count": 229,
   "id": "dd17a71e-f3a1-446f-9c9b-11ea675bfaa6",
   "metadata": {},
   "outputs": [],
   "source": [
    "# Make pairings for all node and xpaths into a df\n",
    "pairs = [(ac_segmented_text[i], ac_xpaths[i]) for i in range(len(ac_segmented_text))]\n",
    "df = pd.DataFrame(pairs, columns=[['text', 'xpaths']]);"
   ]
  },
  {
   "cell_type": "code",
   "execution_count": null,
   "id": "bca350e4-62f4-4a76-9e3e-0f3919c3cc04",
   "metadata": {},
   "outputs": [],
   "source": []
  },
  {
   "cell_type": "code",
   "execution_count": 230,
   "id": "9d492071-26f3-4212-9af8-29a5171888e4",
   "metadata": {},
   "outputs": [],
   "source": [
    "# HIGHLIGHTED DATA ONLY\n",
    "path = \"/Users/rohith/Downloads/contract_saved_full.json\"\n",
    "with open(path) as f:\n",
    "    labelled = json.load(f)\n"
   ]
  },
  {
   "cell_type": "code",
   "execution_count": 231,
   "id": "676bec55-1aa1-46dc-a7bd-3c16990ddd27",
   "metadata": {},
   "outputs": [],
   "source": [
    "labels = ast.literal_eval(labelled['labels'])\n",
    "xpaths = ast.literal_eval(labelled['xpaths'])\n",
    "segmented_text = ast.literal_eval(labelled['segmentedTexts'])\n",
    "text = ast.literal_eval(labelled['texts'])\n",
    "\n"
   ]
  },
  {
   "cell_type": "code",
   "execution_count": 232,
   "id": "562ba807-58ae-4084-b7cb-badc8dcadfc7",
   "metadata": {},
   "outputs": [
    {
     "data": {
      "text/plain": [
       "(42, 42, 42, 42)"
      ]
     },
     "execution_count": 232,
     "metadata": {},
     "output_type": "execute_result"
    }
   ],
   "source": [
    "len(text), len(segmented_text), len(labels), len(xpaths)"
   ]
  },
  {
   "cell_type": "code",
   "execution_count": 233,
   "id": "4843f532-34cb-437d-975d-9d3efbd98d12",
   "metadata": {},
   "outputs": [],
   "source": [
    "df_h = pd.DataFrame()\n",
    "df_h['label'] = labels\n",
    "df_h['segmented_text'] = segmented_text\n",
    "df_h['text'] = text\n",
    "df_h['xpaths'] = xpaths\n",
    "df_h['xpaths'] = df_h['xpaths'].where(df_h['xpaths'] != 'DELETED')\n",
    "df_h = df_h.dropna()"
   ]
  },
  {
   "cell_type": "code",
   "execution_count": 234,
   "id": "5ebca0f8-18ed-4459-81a1-73bdaa7e67db",
   "metadata": {},
   "outputs": [],
   "source": [
    "flattened = df_h['xpaths'].explode()"
   ]
  },
  {
   "cell_type": "code",
   "execution_count": 235,
   "id": "21d047b2-3992-4b30-9dc8-c6b7f9748751",
   "metadata": {},
   "outputs": [
    {
     "data": {
      "text/html": [
       "<div>\n",
       "<style scoped>\n",
       "    .dataframe tbody tr th:only-of-type {\n",
       "        vertical-align: middle;\n",
       "    }\n",
       "\n",
       "    .dataframe tbody tr th {\n",
       "        vertical-align: top;\n",
       "    }\n",
       "\n",
       "    .dataframe thead tr th {\n",
       "        text-align: left;\n",
       "    }\n",
       "</style>\n",
       "<table border=\"1\" class=\"dataframe\">\n",
       "  <thead>\n",
       "    <tr>\n",
       "      <th></th>\n",
       "      <th>text</th>\n",
       "      <th>xpaths</th>\n",
       "    </tr>\n",
       "  </thead>\n",
       "  <tbody>\n",
       "    <tr>\n",
       "      <th>0</th>\n",
       "      <td>EX-4.7</td>\n",
       "      <td>/html/body/document/type</td>\n",
       "    </tr>\n",
       "    <tr>\n",
       "      <th>1</th>\n",
       "      <td>3</td>\n",
       "      <td>/html/body/document/type/sequence</td>\n",
       "    </tr>\n",
       "    <tr>\n",
       "      <th>2</th>\n",
       "      <td>a21-3954_1ex4d7.htm</td>\n",
       "      <td>/html/body/document/type/sequence/filename</td>\n",
       "    </tr>\n",
       "    <tr>\n",
       "      <th>3</th>\n",
       "      <td>EX-4.7</td>\n",
       "      <td>/html/body/document/type/sequence/filename/des...</td>\n",
       "    </tr>\n",
       "    <tr>\n",
       "      <th>4</th>\n",
       "      <td>Exhibit 4.7</td>\n",
       "      <td>/html/body/document/type/sequence/filename/des...</td>\n",
       "    </tr>\n",
       "    <tr>\n",
       "      <th>...</th>\n",
       "      <td>...</td>\n",
       "      <td>...</td>\n",
       "    </tr>\n",
       "    <tr>\n",
       "      <th>3364</th>\n",
       "      <td>Title:</td>\n",
       "      <td>/html/body/document/type/sequence/filename/des...</td>\n",
       "    </tr>\n",
       "    <tr>\n",
       "      <th>3365</th>\n",
       "      <td>[</td>\n",
       "      <td>/html/body/document/type/sequence/filename/des...</td>\n",
       "    </tr>\n",
       "    <tr>\n",
       "      <th>3366</th>\n",
       "      <td>Signature Page to Merger Agreement</td>\n",
       "      <td>/html/body/document/type/sequence/filename/des...</td>\n",
       "    </tr>\n",
       "    <tr>\n",
       "      <th>3367</th>\n",
       "      <td>]</td>\n",
       "      <td>/html/body/document/type/sequence/filename/des...</td>\n",
       "    </tr>\n",
       "    <tr>\n",
       "      <th>3368</th>\n",
       "      <td>SEQ.=1,FOLIO='',FILE='C:\\JMS\\120448\\21-3954-1\\...</td>\n",
       "      <td></td>\n",
       "    </tr>\n",
       "  </tbody>\n",
       "</table>\n",
       "<p>3369 rows × 2 columns</p>\n",
       "</div>"
      ],
      "text/plain": [
       "                                                   text  \\\n",
       "0                                                EX-4.7   \n",
       "1                                                     3   \n",
       "2                                   a21-3954_1ex4d7.htm   \n",
       "3                                                EX-4.7   \n",
       "4                                           Exhibit 4.7   \n",
       "...                                                 ...   \n",
       "3364                                             Title:   \n",
       "3365                                                  [   \n",
       "3366                 Signature Page to Merger Agreement   \n",
       "3367                                                  ]   \n",
       "3368  SEQ.=1,FOLIO='',FILE='C:\\JMS\\120448\\21-3954-1\\...   \n",
       "\n",
       "                                                 xpaths  \n",
       "0                              /html/body/document/type  \n",
       "1                     /html/body/document/type/sequence  \n",
       "2            /html/body/document/type/sequence/filename  \n",
       "3     /html/body/document/type/sequence/filename/des...  \n",
       "4     /html/body/document/type/sequence/filename/des...  \n",
       "...                                                 ...  \n",
       "3364  /html/body/document/type/sequence/filename/des...  \n",
       "3365  /html/body/document/type/sequence/filename/des...  \n",
       "3366  /html/body/document/type/sequence/filename/des...  \n",
       "3367  /html/body/document/type/sequence/filename/des...  \n",
       "3368                                                     \n",
       "\n",
       "[3369 rows x 2 columns]"
      ]
     },
     "execution_count": 235,
     "metadata": {},
     "output_type": "execute_result"
    }
   ],
   "source": [
    "df"
   ]
  },
  {
   "cell_type": "code",
   "execution_count": 236,
   "id": "97fb1355-73d6-4b72-bd57-1479f34478c0",
   "metadata": {},
   "outputs": [
    {
     "ename": "TypeError",
     "evalue": "only list-like objects are allowed to be passed to isin(), you passed a [str]",
     "output_type": "error",
     "traceback": [
      "\u001b[0;31m---------------------------------------------------------------------------\u001b[0m",
      "\u001b[0;31mTypeError\u001b[0m                                 Traceback (most recent call last)",
      "\u001b[0;32m<ipython-input-236-83d0acd27fd5>\u001b[0m in \u001b[0;36m<module>\u001b[0;34m\u001b[0m\n\u001b[1;32m      1\u001b[0m \u001b[0mseries_df_xpaths\u001b[0m \u001b[0;34m=\u001b[0m \u001b[0mdf\u001b[0m\u001b[0;34m[\u001b[0m\u001b[0;34m'xpaths'\u001b[0m\u001b[0;34m]\u001b[0m\u001b[0;34m.\u001b[0m\u001b[0msqueeze\u001b[0m\u001b[0;34m(\u001b[0m\u001b[0;34m)\u001b[0m\u001b[0;34m\u001b[0m\u001b[0;34m\u001b[0m\u001b[0m\n\u001b[0;32m----> 2\u001b[0;31m \u001b[0mnon_matching\u001b[0m \u001b[0;34m=\u001b[0m \u001b[0mseries_df_xpaths\u001b[0m\u001b[0;34m[\u001b[0m\u001b[0;34m~\u001b[0m\u001b[0mseries_df_xpaths\u001b[0m\u001b[0;34m.\u001b[0m\u001b[0mmap\u001b[0m\u001b[0;34m(\u001b[0m\u001b[0mflattened\u001b[0m\u001b[0;34m.\u001b[0m\u001b[0mreset_index\u001b[0m\u001b[0;34m(\u001b[0m\u001b[0;34m)\u001b[0m\u001b[0;34m[\u001b[0m\u001b[0;34m'xpaths'\u001b[0m\u001b[0;34m]\u001b[0m\u001b[0;34m.\u001b[0m\u001b[0misin\u001b[0m\u001b[0;34m)\u001b[0m\u001b[0;34m]\u001b[0m\u001b[0;34m\u001b[0m\u001b[0;34m\u001b[0m\u001b[0m\n\u001b[0m",
      "\u001b[0;32m~/opt/anaconda3/lib/python3.8/site-packages/pandas/core/series.py\u001b[0m in \u001b[0;36mmap\u001b[0;34m(self, arg, na_action)\u001b[0m\n\u001b[1;32m   4537\u001b[0m         \u001b[0mdtype\u001b[0m\u001b[0;34m:\u001b[0m \u001b[0mobject\u001b[0m\u001b[0;34m\u001b[0m\u001b[0;34m\u001b[0m\u001b[0m\n\u001b[1;32m   4538\u001b[0m         \"\"\"\n\u001b[0;32m-> 4539\u001b[0;31m         \u001b[0mnew_values\u001b[0m \u001b[0;34m=\u001b[0m \u001b[0mself\u001b[0m\u001b[0;34m.\u001b[0m\u001b[0m_map_values\u001b[0m\u001b[0;34m(\u001b[0m\u001b[0marg\u001b[0m\u001b[0;34m,\u001b[0m \u001b[0mna_action\u001b[0m\u001b[0;34m=\u001b[0m\u001b[0mna_action\u001b[0m\u001b[0;34m)\u001b[0m\u001b[0;34m\u001b[0m\u001b[0;34m\u001b[0m\u001b[0m\n\u001b[0m\u001b[1;32m   4540\u001b[0m         return self._constructor(new_values, index=self.index).__finalize__(\n\u001b[1;32m   4541\u001b[0m             \u001b[0mself\u001b[0m\u001b[0;34m,\u001b[0m \u001b[0mmethod\u001b[0m\u001b[0;34m=\u001b[0m\u001b[0;34m\"map\"\u001b[0m\u001b[0;34m\u001b[0m\u001b[0;34m\u001b[0m\u001b[0m\n",
      "\u001b[0;32m~/opt/anaconda3/lib/python3.8/site-packages/pandas/core/base.py\u001b[0m in \u001b[0;36m_map_values\u001b[0;34m(self, mapper, na_action)\u001b[0m\n\u001b[1;32m    888\u001b[0m \u001b[0;34m\u001b[0m\u001b[0m\n\u001b[1;32m    889\u001b[0m         \u001b[0;31m# mapper is a function\u001b[0m\u001b[0;34m\u001b[0m\u001b[0;34m\u001b[0m\u001b[0;34m\u001b[0m\u001b[0m\n\u001b[0;32m--> 890\u001b[0;31m         \u001b[0mnew_values\u001b[0m \u001b[0;34m=\u001b[0m \u001b[0mmap_f\u001b[0m\u001b[0;34m(\u001b[0m\u001b[0mvalues\u001b[0m\u001b[0;34m,\u001b[0m \u001b[0mmapper\u001b[0m\u001b[0;34m)\u001b[0m\u001b[0;34m\u001b[0m\u001b[0;34m\u001b[0m\u001b[0m\n\u001b[0m\u001b[1;32m    891\u001b[0m \u001b[0;34m\u001b[0m\u001b[0m\n\u001b[1;32m    892\u001b[0m         \u001b[0;32mreturn\u001b[0m \u001b[0mnew_values\u001b[0m\u001b[0;34m\u001b[0m\u001b[0;34m\u001b[0m\u001b[0m\n",
      "\u001b[0;32m~/opt/anaconda3/lib/python3.8/site-packages/pandas/_libs/lib.pyx\u001b[0m in \u001b[0;36mpandas._libs.lib.map_infer\u001b[0;34m()\u001b[0m\n",
      "\u001b[0;32m~/opt/anaconda3/lib/python3.8/site-packages/pandas/core/series.py\u001b[0m in \u001b[0;36misin\u001b[0;34m(self, values)\u001b[0m\n\u001b[1;32m   5561\u001b[0m         \u001b[0mdtype\u001b[0m\u001b[0;34m:\u001b[0m \u001b[0mbool\u001b[0m\u001b[0;34m\u001b[0m\u001b[0;34m\u001b[0m\u001b[0m\n\u001b[1;32m   5562\u001b[0m         \"\"\"\n\u001b[0;32m-> 5563\u001b[0;31m         \u001b[0mresult\u001b[0m \u001b[0;34m=\u001b[0m \u001b[0malgorithms\u001b[0m\u001b[0;34m.\u001b[0m\u001b[0misin\u001b[0m\u001b[0;34m(\u001b[0m\u001b[0mself\u001b[0m\u001b[0;34m.\u001b[0m\u001b[0m_values\u001b[0m\u001b[0;34m,\u001b[0m \u001b[0mvalues\u001b[0m\u001b[0;34m)\u001b[0m\u001b[0;34m\u001b[0m\u001b[0;34m\u001b[0m\u001b[0m\n\u001b[0m\u001b[1;32m   5564\u001b[0m         return self._constructor(result, index=self.index).__finalize__(\n\u001b[1;32m   5565\u001b[0m             \u001b[0mself\u001b[0m\u001b[0;34m,\u001b[0m \u001b[0mmethod\u001b[0m\u001b[0;34m=\u001b[0m\u001b[0;34m\"isin\"\u001b[0m\u001b[0;34m\u001b[0m\u001b[0;34m\u001b[0m\u001b[0m\n",
      "\u001b[0;32m~/opt/anaconda3/lib/python3.8/site-packages/pandas/core/algorithms.py\u001b[0m in \u001b[0;36misin\u001b[0;34m(comps, values)\u001b[0m\n\u001b[1;32m    457\u001b[0m         )\n\u001b[1;32m    458\u001b[0m     \u001b[0;32mif\u001b[0m \u001b[0;32mnot\u001b[0m \u001b[0mis_list_like\u001b[0m\u001b[0;34m(\u001b[0m\u001b[0mvalues\u001b[0m\u001b[0;34m)\u001b[0m\u001b[0;34m:\u001b[0m\u001b[0;34m\u001b[0m\u001b[0;34m\u001b[0m\u001b[0m\n\u001b[0;32m--> 459\u001b[0;31m         raise TypeError(\n\u001b[0m\u001b[1;32m    460\u001b[0m             \u001b[0;34m\"only list-like objects are allowed to be passed \"\u001b[0m\u001b[0;34m\u001b[0m\u001b[0;34m\u001b[0m\u001b[0m\n\u001b[1;32m    461\u001b[0m             \u001b[0;34mf\"to isin(), you passed a [{type(values).__name__}]\"\u001b[0m\u001b[0;34m\u001b[0m\u001b[0;34m\u001b[0m\u001b[0m\n",
      "\u001b[0;31mTypeError\u001b[0m: only list-like objects are allowed to be passed to isin(), you passed a [str]"
     ]
    }
   ],
   "source": [
    "series_df_xpaths = df['xpaths'].squeeze()\n",
    "non_matching = series_df_xpaths[~series_df_xpaths.map(flattened.reset_index()['xpaths'].isin)]"
   ]
  },
  {
   "cell_type": "code",
   "execution_count": null,
   "id": "f39045f2-0447-44a7-8844-2bc2ffa1a5f4",
   "metadata": {},
   "outputs": [],
   "source": []
  }
 ],
 "metadata": {
  "kernelspec": {
   "display_name": "Python 3 (ipykernel)",
   "language": "python",
   "name": "python3"
  },
  "language_info": {
   "codemirror_mode": {
    "name": "ipython",
    "version": 3
   },
   "file_extension": ".py",
   "mimetype": "text/x-python",
   "name": "python",
   "nbconvert_exporter": "python",
   "pygments_lexer": "ipython3",
   "version": "3.8.8"
  }
 },
 "nbformat": 4,
 "nbformat_minor": 5
}
